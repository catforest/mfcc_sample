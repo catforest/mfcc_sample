{
  "nbformat": 4,
  "nbformat_minor": 0,
  "metadata": {
    "colab": {
      "name": "mfcc_sample.ipynb",
      "version": "0.3.2",
      "provenance": [],
      "collapsed_sections": [],
      "include_colab_link": true
    },
    "kernelspec": {
      "name": "python3",
      "display_name": "Python 3"
    },
    "accelerator": "GPU"
  },
  "cells": [
    {
      "cell_type": "markdown",
      "metadata": {
        "id": "view-in-github",
        "colab_type": "text"
      },
      "source": [
        "<a href=\"https://colab.research.google.com/github/catforest/mfcc_sample/blob/master/mfcc_sample.ipynb\" target=\"_parent\"><img src=\"https://colab.research.google.com/assets/colab-badge.svg\" alt=\"Open In Colab\"/></a>"
      ]
    },
    {
      "metadata": {
        "id": "pxzrnGqdujuU",
        "colab_type": "code",
        "colab": {}
      },
      "cell_type": "code",
      "source": [
        "# ------------------------------\n",
        "# Module Check\n",
        "# ------------------------------\n",
        "hasModule = !pip list | grep python-speech-features\n",
        "\n",
        "if hasModule:\n",
        "  print('module ... ok')\n",
        "else:\n",
        "  print('module ... installing')\n",
        "  !pip install python_speech_features\n",
        "\n",
        "# ------------------------------\n",
        "# Runtime Check\n",
        "# ------------------------------\n",
        "# Runtime: Python3 & GPU\n",
        "# （「ランタイム」＞「ランタイムのタイプを変更」より設定可能）\n",
        "\n",
        "import tensorflow as tf\n",
        "device_name = tf.test.gpu_device_name()\n",
        "if device_name != '/device:GPU:0':\n",
        "  raise SystemError('GPU device not found')\n",
        "print('Found GPU at: {}'.format(device_name))\n",
        "\n",
        "# 【必須】ラベル、音声ファイルのアップロード\n",
        "# ラベルは、labels.tsv"
      ],
      "execution_count": 0,
      "outputs": []
    },
    {
      "metadata": {
        "id": "hPBViVrVuPbH",
        "colab_type": "code",
        "colab": {}
      },
      "cell_type": "code",
      "source": [
        "# ------------------------------\n",
        "# Timestamp\n",
        "# ------------------------------\n",
        "from datetime import datetime, timedelta, timezone\n",
        "\n",
        "JST = timezone(timedelta(hours=+9), 'JST')\n",
        "now = datetime.now(JST)\n",
        "print('start @ {0:%m/%d %H:%M:%S}'.format(now))\n",
        "\n",
        "\n",
        "import numpy as np\n",
        "from scipy.io.wavfile import read\n",
        "from python_speech_features import mfcc\n",
        "from python_speech_features import delta\n",
        "\n",
        "# cut out a part with SOURCE_LENGTH from the center\n",
        "#  https://python-speech-features.readthedocs.io/en/latest/\n",
        "def get_mfcc(filename):\n",
        "  SOURCE_LENGTH = 3000\n",
        "  WINDOW_LENGTH = 0.025\n",
        "  WINDOW_STEP = 0.01\n",
        "  CEPSTRUM_NUMBER = 13\n",
        "  FILTER_NUMBER = 26\n",
        "  FFT_SIZE = 512\n",
        "  PREEMPH_COEFFICIENT = 0.97\n",
        "  CEPSTRUM_FILTER = 26\n",
        "  IS_APPEND_ENERGY = False\n",
        "\n",
        "  sampling, data = read(filename)\n",
        "  start = int(len(data)/2)\n",
        "  data = data[start : start + SOURCE_LENGTH]\n",
        "  signal = data / 32768\n",
        "  feat = mfcc(signal,\n",
        "              samplerate=sampling,\n",
        "              winlen = WINDOW_LENGTH,\n",
        "              winstep = WINDOW_STEP,\n",
        "              numcep = CEPSTRUM_NUMBER,\n",
        "              nfilt = FILTER_NUMBER,\n",
        "              nfft = FFT_SIZE,\n",
        "              preemph = PREEMPH_COEFFICIENT,\n",
        "              ceplifter = CEPSTRUM_FILTER,\n",
        "              appendEnergy = IS_APPEND_ENERGY)\n",
        "  return feat, signal, filename\n",
        "\n",
        "# MFCC processing for ./*.wav\n",
        "mfccs = []\n",
        "\n",
        "import glob\n",
        "\n",
        "path = './*.wav'\n",
        "files = glob.glob(path)\n",
        "\n",
        "for f in files:\n",
        "    mfccs.append(get_mfcc(f))\n",
        "\n",
        "# 描画用\n",
        "import matplotlib.pyplot as plt"
      ],
      "execution_count": 0,
      "outputs": []
    },
    {
      "metadata": {
        "id": "RF-Tc3QnAWO4",
        "colab_type": "code",
        "colab": {}
      },
      "cell_type": "code",
      "source": [
        "# 音声ソースの確認\n",
        "# 【TASK】無音部分のみが選択されていないかの確認\n",
        "# 最終的な精度に影響を及ぼす可能性がある\n",
        "# 【TASK】音声部分のみを選択するにはどうすれば良いか\n",
        "plt.plot(mfccs[0][1])"
      ],
      "execution_count": 0,
      "outputs": []
    },
    {
      "metadata": {
        "id": "JBTwgTAei6LG",
        "colab_type": "code",
        "colab": {}
      },
      "cell_type": "code",
      "source": [
        "# MFCCの確認\n",
        "# 【TASK】無音部分だとどのような形になるかの確認\n",
        "plt.plot(mfccs[0][0])"
      ],
      "execution_count": 0,
      "outputs": []
    },
    {
      "metadata": {
        "id": "FPRl8jAn7PZ7",
        "colab_type": "code",
        "colab": {}
      },
      "cell_type": "code",
      "source": [
        "# Load labels.tsv\n",
        "LABEL_FILE = 'labels.tsv'\n",
        "import pandas as pd\n",
        "df = pd.read_table(LABEL_FILE, names = ('filename', 'status'))"
      ],
      "execution_count": 0,
      "outputs": []
    },
    {
      "metadata": {
        "id": "CtOhv2rbmOHa",
        "colab_type": "code",
        "colab": {}
      },
      "cell_type": "code",
      "source": [
        "# 【TASK】t-SNE, PCA等を用いて次元圧縮\n",
        "# 【TASK】どのような前処理を行うと分類し易くなるかを確認"
      ],
      "execution_count": 0,
      "outputs": []
    }
  ]
}